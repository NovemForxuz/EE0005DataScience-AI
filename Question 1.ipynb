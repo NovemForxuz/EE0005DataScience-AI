{
 "cells": [
  {
   "cell_type": "code",
   "execution_count": 61,
   "id": "f5d8eb49",
   "metadata": {},
   "outputs": [],
   "source": [
    "# define function for Q1\n",
    "def q1():\n",
    "    #initialize variable\n",
    "    result = []\n",
    "    \n",
    "    # exception handler for i/o\n",
    "    try:\n",
    "        # read from file\n",
    "        blocked_users = open('blocklist.txt', 'r')\n",
    "        \n",
    "        print(\"Blocked user:\")\n",
    "        # convert into a unique list\n",
    "        blocklist = list(set(blocked_users.readlines()))\n",
    "        \n",
    "        # iterate each line as an element from block list\n",
    "        for user in blocklist:\n",
    "            print(user)\n",
    "            result.append(user)\n",
    "     \n",
    "    # catch exception \n",
    "    except FileNotFoundError as err:\n",
    "        print(err)\n",
    "    \n",
    "    # close resources\n",
    "    blocked_users.close()"
   ]
  },
  {
   "cell_type": "code",
   "execution_count": 62,
   "id": "0559d690",
   "metadata": {},
   "outputs": [
    {
     "name": "stdout",
     "output_type": "stream",
     "text": [
      "Blocked user:\n",
      "cleopatra@pharaoh.org\n",
      "\n",
      "d.vader@empire.net\n",
      "\n",
      "alice@wonderland.co.uk\n",
      "\n",
      "captainhook@neverland.com\n",
      "\n"
     ]
    }
   ],
   "source": [
    "# execute function\n",
    "q1()"
   ]
  },
  {
   "cell_type": "code",
   "execution_count": null,
   "id": "620e72fc",
   "metadata": {},
   "outputs": [],
   "source": []
  }
 ],
 "metadata": {
  "kernelspec": {
   "display_name": "Python 3",
   "language": "python",
   "name": "python3"
  },
  "language_info": {
   "codemirror_mode": {
    "name": "ipython",
    "version": 3
   },
   "file_extension": ".py",
   "mimetype": "text/x-python",
   "name": "python",
   "nbconvert_exporter": "python",
   "pygments_lexer": "ipython3",
   "version": "3.8.8"
  }
 },
 "nbformat": 4,
 "nbformat_minor": 5
}
