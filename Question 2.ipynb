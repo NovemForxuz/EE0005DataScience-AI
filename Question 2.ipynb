{
 "cells": [
  {
   "cell_type": "code",
   "execution_count": 1,
   "id": "e642104e",
   "metadata": {},
   "outputs": [],
   "source": [
    "# define function for Q2\n",
    "def q2():\n",
    "    #initialize variable\n",
    "    count = 0 \n",
    "    \n",
    "    # exception handler for i/o\n",
    "    try:\n",
    "        # read from file\n",
    "        visitors_users = open('visitors.txt', 'r')\n",
    "        \n",
    "        visitorlist = visitors_users.readlines()\n",
    "        \n",
    "        # iterate each user from list of visitors\n",
    "        for user in visitorlist: \n",
    "            count += 1\n",
    "        \n",
    "        # iterate each user from list of visitors\n",
    "        denied_access = [user for user in visitorlist if user in getBlocklist()]\n",
    "        \n",
    "        \n",
    "        # print the no. of visitors online\n",
    "        print(\"Visitors online: \" + str(count))\n",
    "        \n",
    "        # print users that was denied access\n",
    "        print(\"Denied access: \")\n",
    "        for user in denied_access:\n",
    "            print(user)\n",
    "    \n",
    "    # catch exception \n",
    "    except FileNotFoundError as err:\n",
    "        print(err)\n",
    "    \n",
    "    # close resources\n",
    "    visitors_users.close()"
   ]
  },
  {
   "cell_type": "code",
   "execution_count": null,
   "id": "447e822a",
   "metadata": {},
   "outputs": [],
   "source": [
    "def getBlocklist():\n",
    "    # initialize variable\n",
    "    result = []\n",
    "    \n",
    "    # exception handler for i/o\n",
    "    try:\n",
    "        # read from file\n",
    "        blockfile = open('blocklist.txt', 'r')\n",
    "        \n",
    "        blocklist = blockfile.read().split('\\n')\n",
    "        \n",
    "        # iterate each user from list of visitors\n",
    "        count = len(blocklist)\n",
    "        \n",
    "        # iterate each user from list of visitors\n",
    "        denied_access = [user for user in visitorlist if user in blocklist]\n",
    "        \n",
    "        \n",
    "        # print the no. of visitors online\n",
    "        print(\"Visitors online: \" + str(count))\n",
    "        \n",
    "        # print users that was denied access\n",
    "        print(\"Users Denied access: \")\n",
    "        for user in denied_access:\n",
    "            print(user)\n",
    "    \n",
    "    # catch exception \n",
    "    except FileNotFoundError as err:\n",
    "        print(err)\n",
    "    \n",
    "    # release resources\n",
    "    blockfile.close()"
   ]
  }
 ],
 "metadata": {
  "kernelspec": {
   "display_name": "Python 3",
   "language": "python",
   "name": "python3"
  },
  "language_info": {
   "codemirror_mode": {
    "name": "ipython",
    "version": 3
   },
   "file_extension": ".py",
   "mimetype": "text/x-python",
   "name": "python",
   "nbconvert_exporter": "python",
   "pygments_lexer": "ipython3",
   "version": "3.8.8"
  }
 },
 "nbformat": 4,
 "nbformat_minor": 5
}
