{
 "cells": [
  {
   "cell_type": "code",
   "execution_count": 10,
   "id": "66652ee3",
   "metadata": {},
   "outputs": [],
   "source": [
    "# define function for Q3\n",
    "def q3():\n",
    "    # initialize\n",
    "    offenders = set()\n",
    "    filename = 'blocklist.txt'\n",
    "    blocklist = getBlocklist()\n",
    "\n",
    "    while True:\n",
    "        # get user input and save to newoffender\n",
    "        newoffender = input(\"Add new offenders(enter '.' to stop) \")\n",
    "        # loop's end condition\n",
    "        if newoffender == \".\":\n",
    "            break\n",
    "        else:\n",
    "            if newoffender not in blocklist:\n",
    "                offenders.add(newoffender)\n",
    "    print(offenders)\n",
    "\n",
    "    # exception handler for i/o\n",
    "    try:\n",
    "        blockfile = open(filename, 'a')  # open file with append permission\n",
    "\n",
    "        for user in offenders:\n",
    "            blockfile.write(user + '\\n')\n",
    "\n",
    "    except FileNotFoundError:\n",
    "        print(filename + ' does not exist.')\n",
    "\n",
    "    # release resources\n",
    "    blockfile.close()\n",
    "\n"
   ]
  },
  {
   "cell_type": "code",
   "execution_count": 11,
   "id": "b8650ffb",
   "metadata": {},
   "outputs": [],
   "source": [
    "def getBlocklist():\n",
    "    # exception handler for i/o\n",
    "    try:\n",
    "        # read from file\n",
    "        blocked_users = open('blocklist.txt', 'r')\n",
    "\n",
    "        # convert into a unique list\n",
    "        blocklist = list(set(blocked_users.read().split('\\n')))\n",
    "\n",
    "    # catch exception\n",
    "    except FileNotFoundError as err:\n",
    "        print(err)\n",
    "\n",
    "    # close resources\n",
    "    blocked_users.close()\n",
    "\n",
    "    return blocklist\n",
    "\n"
   ]
  },
  {
   "cell_type": "code",
   "execution_count": 12,
   "id": "e9f7561e",
   "metadata": {},
   "outputs": [
    {
     "name": "stdout",
     "output_type": "stream",
     "text": [
      "Add new offenders(enter '.' to stop) Batman@empire.co.uk\n",
      "Add new offenders(enter '.' to stop) .\n",
      "{'Batman@empire.co.uk'}\n"
     ]
    }
   ],
   "source": [
    "# execute function\n",
    "q3()"
   ]
  },
  {
   "cell_type": "code",
   "execution_count": null,
   "id": "4579c2c3",
   "metadata": {},
   "outputs": [],
   "source": []
  }
 ],
 "metadata": {
  "kernelspec": {
   "display_name": "Python 3",
   "language": "python",
   "name": "python3"
  },
  "language_info": {
   "codemirror_mode": {
    "name": "ipython",
    "version": 3
   },
   "file_extension": ".py",
   "mimetype": "text/x-python",
   "name": "python",
   "nbconvert_exporter": "python",
   "pygments_lexer": "ipython3",
   "version": "3.8.8"
  }
 },
 "nbformat": 4,
 "nbformat_minor": 5
}
